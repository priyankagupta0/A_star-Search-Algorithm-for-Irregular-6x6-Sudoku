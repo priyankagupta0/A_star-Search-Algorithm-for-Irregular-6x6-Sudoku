{
 "cells": [
  {
   "cell_type": "markdown",
   "id": "d3e10850-aec7-4c87-b94c-7aea63a0e4ad",
   "metadata": {},
   "source": [
    "# A* :\n",
    "\n",
    "The A* (pronounced \"A-star\") search algorithm is a widely used and effective pathfinding algorithm. It's commonly used in various fields, including artificial intelligence, robotics, and video games. A* is an extension of dijkstra algorithm and is used to find the shortest path from a starting point to a goal in a graph, grid, or map.\r\n",
    "\r\n",
    "Here's a high-level explanation of the A* search algorithm:\r\n",
    "\r\n",
    "1. **Initialization:**\r\n",
    "\r\n",
    "   - You start with a graph or grid representing your environment. Each location in this environment is called a \"node\" or \"cell.\"\r\n",
    "   - You have a starting node and a goal node. The goal is the destination you want to reach.\r\n",
    "\r\n",
    "2. **Open List and Closed List:**\r\n",
    "\r\n",
    "   - A* uses two lists: the \"Open List\" and the \"Closed List.\"\r\n",
    "   - The Open List holds nodes that need to be explored or considered.\r\n",
    "   - The Closed List holds nodes that have already been explored.\r\n",
    "\r\n",
    "3. **G and H Scores:**\r\n",
    "\r\n",
    "   - Each node on the Open List has two values associated with it: G and H scores.\r\n",
    "   - G (the \"cost-so-far\") represents the actual cost to reach a particular node from the starting node.\r\n",
    "   - H (the \"heuristic\") is an estimate of the cost from the current node to the goal. It's a heuristic because it doesn't give you the exact cost but an estimation.\r\n",
    "\r\n",
    "4. **F Score:**\r\n",
    "\r\n",
    "   - The F score is the sum of G and H: `F = G + H`.\r\n",
    "   - A* selects the node with the lowest F score from the Open List, as this is the node that is estimated to be the most promising.\r\n",
    "\r\n",
    "5. **Expanding Nodes:**\r\n",
    "\r\n",
    "   - For the selected node, you expand it by considering its neighbors (often called \"successor\" nodes).\r\n",
    "   - Calculate G and H scores for each neighbor.\r\n",
    "   - If a neighbor is not on the Open or Closed List, add it to the Open List with the calculated F, G, and H scores.\r\n",
    "\r\n",
    "6. **Choosing the Next Node:**\r\n",
    "\r\n",
    "   - The node with the lowest F score on the Open List becomes the next node to explore.\r\n",
    "   - If the goal node is selected, the path is found, and you can reconstruct the path by tracing back from the goal node to the start node.\r\n",
    "\r\n",
    "7. **Repeat:**\r\n",
    "\r\n",
    "   - Continue this process until you reach the goal node, or the Open List becomes empty (indicating that there is no path to the goal).\r\n",
    "\r\n",
    "8. **Optimality:**\r\n",
    "\r\n",
    "   - A* is known for its optimality; it guarantees that it will find the shortest path if one exists.\r\n",
    "\r\n",
    "A* uses a combination of the G and H scores to prioritize exploring nodes. The G score ensures that the algorithm explores paths with lower actual costs, and the H score guides it toward the goal. By considering the total cost (F score), A* efficiently finds the optimal path. However, it's important to choose an appropriate heuristic fo the problem to ensure A* works effectively.#"
   ]
  },
  {
   "cell_type": "code",
   "execution_count": 1,
   "id": "990c134b-30e6-4ef9-ab2f-1415d8fb68e8",
   "metadata": {},
   "outputs": [],
   "source": [
    "# import the only module needed\n",
    "from simpleai.search import SearchProblem, astar"
   ]
  },
  {
   "attachments": {},
   "cell_type": "markdown",
   "id": "ba1c8bfd-7fdd-4f97-b6d4-36529e380544",
   "metadata": {},
   "source": [
    "### Data structure\r\n",
    "To represent the irregular 6x6 sudoku board, chains are used, specifically two, one that will represent the numbers on the board and another that will represent the structure of the board (the shape of the subgroups)\n",
    " As an example, in this document we work with the following boad:\n",
    "<div style='text-align: center';> <img src='https://i.imgur.com/ckQ8rn7.png' alt='Alt Text'  width='50%'> </div>\n",
    ">\r\n",
    ">\r\n",
    ":"
   ]
  },
  {
   "cell_type": "markdown",
   "id": "42b6b0d4-b05a-45e8-a75b-d0086cbe3eb5",
   "metadata": {},
   "source": [
    "The represention of the numbers of the above table would be:"
   ]
  },
  {
   "cell_type": "code",
   "execution_count": 5,
   "id": "35392fbf-05cc-4493-bd86-2013c61162b3",
   "metadata": {},
   "outputs": [
    {
     "data": {
      "text/plain": [
       "'\\n0-0-0-0-1-0\\n0-3-0-0-2-0\\n0-2-0-0-0-0\\n0-0-0-0-5-0\\n0-0-0-1-0-0\\n0-6-5-2-0-0\\n'"
      ]
     },
     "execution_count": 5,
     "metadata": {},
     "output_type": "execute_result"
    }
   ],
   "source": [
    "initial_board_str = '''0-0-0-0-1-0\n",
    "0-3-0-0-2-0\n",
    "0-2-0-0-0-0\n",
    "0-0-0-0-5-0\n",
    "0-0-0-1-0-0\n",
    "0-6-5-2-0-0'''\n",
    "\n",
    "initial_board_str"
   ]
  },
  {
   "cell_type": "code",
   "execution_count": 6,
   "id": "ef122a86-b8f8-49a5-9f97-7d9eba6f26f1",
   "metadata": {},
   "outputs": [
    {
     "data": {
      "text/plain": [
       "'\\n1-1-1-1-1-2\\n3-3-4-1-2-2\\n3-4-4-4-2-2\\n3-3-4-4-2-6\\n3-5-6-6-6-6\\n5-5-5-5-5-6\\n'"
      ]
     },
     "execution_count": 6,
     "metadata": {},
     "output_type": "execute_result"
    }
   ],
   "source": [
    "#Randomly defining the jigsaw labelling\n",
    "\n",
    "initial_group_str = '''1-1-1-1-1-2\n",
    "3-3-4-1-2-2\n",
    "3-4-4-4-2-2\n",
    "3-3-4-4-2-6\n",
    "3-5-6-6-6-6\n",
    "5-5-5-5-5-6'''\n",
    "\n",
    "initial_group_str"
   ]
  },
  {
   "cell_type": "markdown",
   "id": "4a4ac7da-9d48-445b-b0de-3e550b1a1f4c",
   "metadata": {},
   "source": [
    "The number assigned to each group does not affect the result of the algorithm, it is not even necessary for the numbers used to be consecutive, since they are used by the algorithm only to be able to group the boxes that belong to each group"
   ]
  },
  {
   "cell_type": "markdown",
   "id": "2b24c789-2bfb-4c66-a0a1-60a9a460edae",
   "metadata": {},
   "source": [
    "# Sudoku Utilities\n",
    "Here, you will find a collection of functions and subroutines that the algorithm utilizes for managing states in the methods essential to enact the solution as a search problem. These utility functions are stored within the `sudokutils.py` file within the source code available on [GitHub](https://github.com/Bielos/irregular-sudoku-a-star)."
   ]
  },
  {
   "cell_type": "code",
   "execution_count": 9,
   "id": "4494377e-4122-401b-9d23-400ee0e2b77e",
   "metadata": {},
   "outputs": [],
   "source": [
    "# Functions 'string_to_list' and 'list_to string' allows us to convert the state chain representation to matrices to make it easier for us to handle the data structure.\n",
    "\n",
    "def string_to_list(my_string):\n",
    "    return (row.split('-') for row in my_string.split('\\n'))\n",
    "\n",
    "def list_to_string(my_list):\n",
    "    return('\\n'.join(['-'.join(row) for row in my_list])) #fyi, append is for list and join is for strings."
   ]
  },
  {
   "cell_type": "markdown",
   "id": "c6cfeb92-a09c-454e-bfe9-05d6898eb110",
   "metadata": {},
   "source": [
    "In order to control the empty spaces, the '0' in the space is converted to 'X'. We will form a function which will do the same and return the position of the cell where 'X' is located."
   ]
  },
  {
   "cell_type": "code",
   "execution_count": 10,
   "id": "4565acba-0468-46a3-9af6-bc39879fc6d3",
   "metadata": {},
   "outputs": [],
   "source": [
    "# Find the location of the actual position piece in the puzzle.\n",
    "# Returns a tuple: row, column\n",
    "\n",
    "def find_actual_position(board):\n",
    "    rows = string_to_list(initial_board_str)\n",
    "    for ir, row in enumerate(rows):\n",
    "        for ic, element in enumerate(row):\n",
    "            if element == 'X':\n",
    "                return ir, ic"
   ]
  },
  {
   "cell_type": "code",
   "execution_count": 11,
   "id": "d0826a73-76d4-4054-8e9e-373f462ef37b",
   "metadata": {},
   "outputs": [],
   "source": [
    "# This function receives a board and a row, and returns a list of valid numbers for this row.\n",
    "# Find all valid numbers inside a row.\n",
    "# Returns a list of strings\n",
    "\n",
    "def possible_nos_in_row(board, a_row):\n",
    "    rows = string_to_list(initial_board_str)\n",
    "    elements = []\n",
    "    for ir, row in enumerate(rows):\n",
    "        for ic, element in enumerate(row):\n",
    "            if ir == a_row:\n",
    "                elements.append(element)\n",
    "\n",
    "    results = []\n",
    "    for i in range(1,7):\n",
    "        if str(i) not in elements:\n",
    "            results.append(str(i))\n",
    "\n",
    "    return results"
   ]
  },
  {
   "cell_type": "code",
   "execution_count": 12,
   "id": "19108fa0-44ba-49a7-af2e-84f2143bf82a",
   "metadata": {},
   "outputs": [],
   "source": [
    "# Create a function which receives a board and a column, and returns a list of valid numbers for this column.\n",
    "\n",
    "def possible_nos_in_col(board, a_col):\n",
    "    rows = string_to_list(initial_board_str)\n",
    "    elements = []\n",
    "    for ir, row in enumerate(rows):\n",
    "        for ic, element in enumerate(row):\n",
    "            if ic == a_col:\n",
    "                elements.append(element)\n",
    "    \n",
    "    results = []\n",
    "    for i in range(1,7):\n",
    "        if str(i) not in elements:\n",
    "            results.append(str(i))\n",
    "\n",
    "    return results"
   ]
  },
  {
   "cell_type": "code",
   "execution_count": null,
   "id": "d806a116-e2b1-49f2-96e6-60771022c48f",
   "metadata": {},
   "outputs": [],
   "source": [
    "# This function receives a board and a group, and returns a list of valid numbers for this group.\n",
    "# groups: A string representing groups on the board (e.g., rows, columns, or other segments).\n",
    "# group: An integer representing the group number for which you want to find valid numbers.\n",
    "def possible_nos_in_group(board, groups, group):\n",
    "    "
   ]
  },
  {
   "cell_type": "code",
   "execution_count": null,
   "id": "ae5ce007-6caf-484f-b57f-b9a4a38e062c",
   "metadata": {},
   "outputs": [],
   "source": []
  }
 ],
 "metadata": {
  "kernelspec": {
   "display_name": "Python 3 (ipykernel)",
   "language": "python",
   "name": "python3"
  },
  "language_info": {
   "codemirror_mode": {
    "name": "ipython",
    "version": 3
   },
   "file_extension": ".py",
   "mimetype": "text/x-python",
   "name": "python",
   "nbconvert_exporter": "python",
   "pygments_lexer": "ipython3",
   "version": "3.10.5"
  }
 },
 "nbformat": 4,
 "nbformat_minor": 5
}
