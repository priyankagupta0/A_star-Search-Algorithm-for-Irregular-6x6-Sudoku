{
 "cells": [
  {
   "cell_type": "markdown",
   "id": "d3e10850-aec7-4c87-b94c-7aea63a0e4ad",
   "metadata": {},
   "source": [
    "# A* :\n",
    "\n",
    "The A* (pronounced \"A-star\") search algorithm is a widely used and effective pathfinding algorithm. It's commonly used in various fields, including artificial intelligence, robotics, and video games. A* is an extension of dijkstra algorithm and is used to find the shortest path from a starting point to a goal in a graph, grid, or map.\n",
    "\n",
    "Here's a high-level explanation of the A* search algorithm:\n",
    "\n",
    "1. **Initialization:**\n",
    "\n",
    "   - You start with a graph or grid representing your environment. Each location in this environment is called a \"node\" or \"cell.\"\n",
    "   - You have a starting node and a goal node. The goal is the destination you want to reach.\n",
    "\n",
    "2. **Open List and Closed List:**\n",
    "\n",
    "   - A* uses two lists: the \"Open List\" and the \"Closed List.\"\n",
    "   - The Open List holds nodes that need to be explored or considered.\n",
    "   - The Closed List holds nodes that have already been explored.\n",
    "\n",
    "3. **G and H Scores:**\n",
    "\n",
    "   - Each node on the Open List has two values associated with it: G and H scores.\n",
    "   - G (the \"cost-so-far\") represents the actual cost to reach a particular node from the starting node.\n",
    "   - H (the \"heuristic\") is an estimate of the cost from the current node to the goal. It's a heuristic because it doesn't give you the exact cost but an estimation.\n",
    "\n",
    "4. **F Score:**\n",
    "\n",
    "   - The F score is the sum of G and H: `F = G + H`.\n",
    "   - A* selects the node with the lowest F score from the Open List, as this is the node that is estimated to be the most promising.\n",
    "\n",
    "5. **Expanding Nodes:**\n",
    "\n",
    "   - For the selected node, you expand it by considering its neighbors (often called \"successor\" nodes).\n",
    "   - Calculate G and H scores for each neighbor.\n",
    "   - If a neighbor is not on the Open or Closed List, add it to the Open List with the calculated F, G, and H scores.\n",
    "\n",
    "6. **Choosing the Next Node:**\n",
    "\n",
    "   - The node with the lowest F score on the Open List becomes the next node to explore.\n",
    "   - If the goal node is selected, the path is found, and you can reconstruct the path by tracing back from the goal node to the start node.\n",
    "\n",
    "7. **Repeat:**\n",
    "\n",
    "   - Continue this process until you reach the goal node, or the Open List becomes empty (indicating that there is no path to the goal).\n",
    "\n",
    "8. **Optimality:**\n",
    "\n",
    "   - A* is known for its optimality; it guarantees that it will find the shortest path if one exists.\n",
    "\n",
    "A* uses a combination of the G and H scores to prioritize exploring nodes. The G score ensures that the algorithm explores paths with lower actual costs, and the H score guides it toward the goal. By considering the total cost (F score), A* efficiently finds the optimal path. However, it's important to choose an appropriate heuristic for the problem to ensure A* works effectively.\n",
    "\n",
    "\n",
    "Inspired by [Daniel Martinex Bielostotzky](https://www.kaggle.com/danielmartinezb) the problem to ensure A* works effectively.#"
   ]
  },
  {
   "cell_type": "code",
   "execution_count": 1,
   "id": "990c134b-30e6-4ef9-ab2f-1415d8fb68e8",
   "metadata": {},
   "outputs": [],
   "source": [
    "# import the only module needed\n",
    "from simpleai.search import SearchProblem, astar"
   ]
  },
  {
   "attachments": {},
   "cell_type": "markdown",
   "id": "ba1c8bfd-7fdd-4f97-b6d4-36529e380544",
   "metadata": {},
   "source": [
    "### Data structure\r\n",
    "To represent the irregular 6x6 sudoku board, chains are used, specifically two, one that will represent the numbers on the board and another that will represent the structure of the board (the shape of the subgroups)\n",
    " As an example, in this document we work with the following boad:\n",
    "<div style='text-align: center';> <img src='https://i.imgur.com/ckQ8rn7.png' alt='Alt Text'  width='50%'> </div>\n",
    ">\r\n",
    ">\r\n",
    ":"
   ]
  },
  {
   "cell_type": "markdown",
   "id": "42b6b0d4-b05a-45e8-a75b-d0086cbe3eb5",
   "metadata": {},
   "source": [
    "The represention of the numbers of the above table would be:"
   ]
  },
  {
   "cell_type": "code",
   "execution_count": 2,
   "id": "35392fbf-05cc-4493-bd86-2013c61162b3",
   "metadata": {},
   "outputs": [
    {
     "data": {
      "text/plain": [
       "'0-0-0-0-1-0\\n0-3-0-0-2-0\\n0-2-0-0-0-0\\n0-0-0-0-5-0\\n0-0-0-1-0-0\\n0-6-5-2-0-0'"
      ]
     },
     "execution_count": 2,
     "metadata": {},
     "output_type": "execute_result"
    }
   ],
   "source": [
    "initial_board_str = '''0-0-0-0-1-0\n",
    "0-3-0-0-2-0\n",
    "0-2-0-0-0-0\n",
    "0-0-0-0-5-0\n",
    "0-0-0-1-0-0\n",
    "0-6-5-2-0-0'''\n",
    "\n",
    "initial_board_str"
   ]
  },
  {
   "cell_type": "code",
   "execution_count": 3,
   "id": "ef122a86-b8f8-49a5-9f97-7d9eba6f26f1",
   "metadata": {},
   "outputs": [
    {
     "data": {
      "text/plain": [
       "'1-1-1-1-1-2\\n3-3-4-1-2-2\\n3-4-4-4-2-2\\n3-3-4-4-2-6\\n3-5-6-6-6-6\\n5-5-5-5-5-6'"
      ]
     },
     "execution_count": 3,
     "metadata": {},
     "output_type": "execute_result"
    }
   ],
   "source": [
    "#Randomly defining the jigsaw labelling\n",
    "\n",
    "initial_group_str = '''1-1-1-1-1-2\n",
    "3-3-4-1-2-2\n",
    "3-4-4-4-2-2\n",
    "3-3-4-4-2-6\n",
    "3-5-6-6-6-6\n",
    "5-5-5-5-5-6'''\n",
    "\n",
    "initial_group_str"
   ]
  },
  {
   "cell_type": "markdown",
   "id": "4a4ac7da-9d48-445b-b0de-3e550b1a1f4c",
   "metadata": {},
   "source": [
    "The number assigned to each group does not affect the result of the algorithm, it is not even necessary for the numbers used to be consecutive, since they are used by the algorithm only to be able to group the boxes that belong to each group"
   ]
  },
  {
   "cell_type": "markdown",
   "id": "2b24c789-2bfb-4c66-a0a1-60a9a460edae",
   "metadata": {},
   "source": [
    "# Sudoku Utilities\n",
    "Here, you will find a collection of functions and subroutines that the algorithm utilizes for managing states in the methods essential to enact the solution as a search problem. These utility functions are stored within the `sudokutils.py` file within the source code available on [GitHub](https://github.com/Bielos/irregular-sudoku-a-star)."
   ]
  },
  {
   "cell_type": "code",
   "execution_count": 4,
   "id": "4494377e-4122-401b-9d23-400ee0e2b77e",
   "metadata": {},
   "outputs": [],
   "source": [
    "# Functions 'string_to_list' and 'list_to string' allows us to convert the state chain representation to matrices to make it easier for us to handle the data structure.\n",
    "\n",
    "def string_to_list(my_string):\n",
    "    return [row.split('-') for row in my_string.split('\\n')]\n",
    "\n",
    "def list_to_string(my_list):\n",
    "    return('\\n'.join(['-'.join(row) for row in my_list])) #fyi, append is for list and join is for strings."
   ]
  },
  {
   "cell_type": "markdown",
   "id": "c6cfeb92-a09c-454e-bfe9-05d6898eb110",
   "metadata": {},
   "source": [
    "In order to control the empty spaces, the '0' in the space is converted to 'X'. We will form a function which will do the same and return the position of the cell where 'X' is located."
   ]
  },
  {
   "cell_type": "code",
   "execution_count": 5,
   "id": "4565acba-0468-46a3-9af6-bc39879fc6d3",
   "metadata": {},
   "outputs": [],
   "source": [
    "# Find the location of the actual position piece in the puzzle.\n",
    "# Returns a tuple: row, column\n",
    "\n",
    "def find_actual_position(board):\n",
    "    rows = string_to_list(board)\n",
    "    for ir, row in enumerate(rows):\n",
    "        for ic, element in enumerate(row):\n",
    "            if element == 'X':\n",
    "                return ir, ic"
   ]
  },
  {
   "cell_type": "code",
   "execution_count": 6,
   "id": "d0826a73-76d4-4054-8e9e-373f462ef37b",
   "metadata": {},
   "outputs": [],
   "source": [
    "# This function receives a board and a row, and returns a list of valid numbers for this row.\n",
    "# Find all valid numbers inside a row.\n",
    "# Returns a list of strings\n",
    "\n",
    "def possible_nos_in_row(board, a_row):\n",
    "    rows = string_to_list(board)\n",
    "    elements = []\n",
    "    for ir, row in enumerate(rows):\n",
    "        for ic, element in enumerate(row):\n",
    "            if ir == a_row:\n",
    "                elements.append(element)\n",
    "\n",
    "    results = []\n",
    "    for i in range(1,7):\n",
    "        if str(i) not in elements:\n",
    "            results.append(str(i))\n",
    "\n",
    "    return results"
   ]
  },
  {
   "cell_type": "code",
   "execution_count": 7,
   "id": "19108fa0-44ba-49a7-af2e-84f2143bf82a",
   "metadata": {},
   "outputs": [],
   "source": [
    "# Create a function which receives a board and a column, and returns a list of valid numbers for this column.\n",
    "\n",
    "def possible_nos_in_col(board, a_col):\n",
    "    rows = string_to_list(board)\n",
    "    elements = []\n",
    "    for ir, row in enumerate(rows):\n",
    "        for ic, element in enumerate(row):\n",
    "            if ic == a_col:\n",
    "                elements.append(element)\n",
    "    \n",
    "    results = []\n",
    "    for i in range(1,7):\n",
    "        if str(i) not in elements:\n",
    "            results.append(str(i))\n",
    "\n",
    "    return results"
   ]
  },
  {
   "cell_type": "code",
   "execution_count": 8,
   "id": "d806a116-e2b1-49f2-96e6-60771022c48f",
   "metadata": {},
   "outputs": [],
   "source": [
    "# This function receives a board and a group, and returns a list of valid numbers for this group.\n",
    "# groups: A string representing groups on the board (e.g., rows, columns, or other segments).\n",
    "# group: An integer representing the group number for which you want to find valid numbers.\n",
    "def possible_nos_in_group(board, groups, group):\n",
    "    board_list = string_to_list(board)\n",
    "    rows = string_to_list(groups)\n",
    "    elements = []\n",
    "\n",
    "    for ir, row in enumerate(rows):\n",
    "        for ic, gr in enumerate(row):\n",
    "            if gr == str(group):\n",
    "                elements.append(board_list[ir][ic])       \n",
    "\n",
    "    results = []\n",
    "    for i in range(1,7):\n",
    "        if str(i) not in elements:\n",
    "            results.append(str(i))\n",
    "\n",
    "    return results"
   ]
  },
  {
   "cell_type": "code",
   "execution_count": 9,
   "id": "ae5ce007-6caf-484f-b57f-b9a4a38e062c",
   "metadata": {},
   "outputs": [],
   "source": [
    "# This function returns a boolean indicating whether a board received by parameter contains empty cells or not. Returns true if there is no empty cells in a board.\n",
    "\n",
    "def completed(board, groups):\n",
    "    rows = string_to_list(board)\n",
    "    for ir, row in enumerate(rows):\n",
    "        for ic, element in enumerate(row):\n",
    "            if element == '0' or element == 'X':\n",
    "                return False\n",
    "    return True"
   ]
  },
  {
   "cell_type": "code",
   "execution_count": 10,
   "id": "f874342c-4661-494d-992a-9fc1c8e3e926",
   "metadata": {},
   "outputs": [],
   "source": [
    "# /This function is one of the heuristics used for the solution, it runs through a board and returns the position of the box with the least amount of valid numbers per row, column and group.\n",
    "# 'Find the next cell to expand based on the number of posible numbers in the cell. Returns a tuple: row, column'\n",
    "\n",
    "def find_next(board, groups):\n",
    "    min_possiblities = 16 #to ensure that it starts as a value greater than the maximum number of possible possibilities for a cell. for a 6x6 size, max possible posiblities would be 6\n",
    "    next_actual_row = None\n",
    "    next_actual_col = None\n",
    "\n",
    "    groups_list = string_to_list(groups)\n",
    "    rows = string_to_list(board)\n",
    "    for ir, row in enumerate(rows):\n",
    "        for ic, element in enumerate(row):\n",
    "            if element == '0':\n",
    "                nums_in_rows = possible_nos_in_row(board, int(ir))\n",
    "                nums_in_cols = possible_nos_in_col(board, int(ic))\n",
    "                nums_in_grps = possible_nos_in_group(board, groups, int(groups_list[ir][ic]))\n",
    "                possiblities = [value for value in nums_in_cols if value in nums_in_rows and value in nums_in_grps] #store the numbers that are possible candidates for a particular cell on the game board\n",
    "                if len(possiblities) < min_possiblities:\n",
    "                    next_actual_row = ir\n",
    "                    next_actual_col = ic\n",
    "                    min_possiblities = len(possiblities)\n",
    "                    \n",
    "    return next_actual_row,next_actual_col"
   ]
  },
  {
   "cell_type": "markdown",
   "id": "84d13589-ed13-471f-982d-72b85c3cbdc2",
   "metadata": {},
   "source": [
    "## Approach to the puzzle as a search problem\n",
    "Here, agent was provided with additional knowledge about his environment: the validity of a number in a certain box. This would ensure the reduction of repeated states.\n",
    "Additionally, with this knowledge, a heuristic was created for the location of the next box that would be marked with 'X', instead of going from left to right and up to down like in classical approach, the agent now goes around the entire board and chooses the box whose number of numbers possible is the smallest, in this way, the number of nodes in the tree is reduced to a maximum, improving the complexity in time and space of the A* algorithm for this puzzle."
   ]
  },
  {
   "cell_type": "markdown",
   "id": "f3124801-0a19-417b-9caf-91021541a3a5",
   "metadata": {},
   "source": [
    "## Implementation of the search problem\r\n",
    "To implement the above definition with SimpleAI, you need to create a class that is a child of SimpleAI's SearchProblem and you will need to implement the actions, result, is_goal and heuristic methods. If the search algorithm needs a cost function, the cost method must also be implemented.\r\n",
    "\r\n",
    "For more information on these methods, see SimpleAI's documentation on defining search problems.\r\n",
    "\r\n",
    "For this case, the class created will be named IrregularSudokuProblem and, since A* will be used, the cost function is implemented in such a way that it always returns the constant 1."
   ]
  },
  {
   "cell_type": "code",
   "execution_count": 11,
   "id": "48ef255f-9b49-4a3c-8364-aa337ffb4d57",
   "metadata": {},
   "outputs": [],
   "source": [
    "class sudoku_solver(SearchProblem):\n",
    "    def actions(self, state):\n",
    "        actual_row, actual_col = find_actual_position(state) #state is the current state of the sudoku\n",
    "        nums_in_rows = possible_nos_in_row(state, actual_row)\n",
    "        nums_in_cols = possible_nos_in_col(state, actual_col)\n",
    "        nums_in_grps = possible_nos_in_group(state, initial_group_str, int(groups_list[actual_row][actual_col]))\n",
    "        posibilites = [value for value in nums_in_cols if value in nums_in_rows and value in nums_in_grps]\n",
    "        return posibilites\n",
    "\n",
    "    def result(self, state, action):\n",
    "        actual_row, actual_col = find_actual_position(state)\n",
    "        state_list = string_to_list(state)\n",
    "        state_list[actual_row][actual_col] = action\n",
    "        if not completed(list_to_string(state_list), initial_group_str):\n",
    "            next_actual_row, next_actual_col = find_next(state, initial_group_str)\n",
    "            state_list[next_actual_row][next_actual_col] = 'X'\n",
    "\n",
    "        return list_to_string(state_list)\n",
    "    def is_goal(self, state):\n",
    "        return completed(state,initial_group_str)\n",
    "\n",
    "    def cost(self, state, action, state2):\n",
    "        return 1\n",
    "    \n",
    "    def heuristic(self, state):\n",
    "        # how many empty cells are we to complete?\n",
    "        h = 0\n",
    "        rows = string_to_list(state)\n",
    "        for ir, row in enumerate(rows):\n",
    "            for ic, element in enumerate(row):\n",
    "                if element == '0':\n",
    "                    h = h + 1\n",
    "        return h "
   ]
  },
  {
   "cell_type": "code",
   "execution_count": 12,
   "id": "ad586b70-adef-481c-9978-b979270bed9c",
   "metadata": {},
   "outputs": [
    {
     "name": "stdout",
     "output_type": "stream",
     "text": [
      "Insert number None\n",
      "Insert number 4\n",
      "Insert number 5\n",
      "Insert number 1\n",
      "Insert number 3\n",
      "Insert number 6\n",
      "Insert number 6\n",
      "Insert number 1\n",
      "Insert number 4\n",
      "Insert number 4\n",
      "Insert number 1\n",
      "Insert number 4\n",
      "Insert number 4\n",
      "Insert number 3\n",
      "Insert number 5\n",
      "Insert number 5\n",
      "Insert number 6\n",
      "Insert number 6\n",
      "Insert number 1\n",
      "Insert number 3\n",
      "Insert number 2\n",
      "Insert number 6\n",
      "Insert number 4\n",
      "Insert number 2\n",
      "Insert number 3\n",
      "Insert number 3\n",
      "Insert number 2\n",
      "Insert number 5\n",
      "-------------\n",
      "FINAL STATE\n",
      "-------------\n",
      "3-5-2-4-1-6\n",
      "5-3-4-6-2-1\n",
      "6-2-1-5-4-3\n",
      "4-1-6-3-5-2\n",
      "2-4-3-1-6-5\n",
      "1-6-5-2-3-4\n"
     ]
    }
   ],
   "source": [
    "#global variable definition\n",
    "groups_list = string_to_list(initial_group_str)\n",
    "\n",
    "#initial state definition\n",
    "initial_state_list = string_to_list(initial_board_str)\n",
    "next_actual_row, next_actual_col = find_next(initial_board_str, initial_group_str)\n",
    "initial_state_list[next_actual_row][next_actual_col] = 'X'\n",
    "\n",
    "initial_state = list_to_string(initial_state_list) \n",
    "\n",
    "#instance of the problem with the initial state\n",
    "my_problem = sudoku_solver(initial_state=initial_state)\n",
    "\n",
    "# A* implementation and results\n",
    "result = astar(my_problem)\n",
    "for action, state in result.path():\n",
    "    print('Insert number', action)\n",
    "print('-------------')\n",
    "print('FINAL STATE')\n",
    "print('-------------')\n",
    "print(state)"
   ]
  },
  {
   "cell_type": "markdown",
   "id": "dcaae0f8-122e-4524-a954-a29b8615409b",
   "metadata": {},
   "source": [
    "The first action is None because the 'X' is manually placed as the initial state in the algorithm definition. The final state shows that the example problem was solved quickly"
   ]
  },
  {
   "cell_type": "markdown",
   "id": "86ced87f-881f-427c-8d25-3b26aece3c64",
   "metadata": {},
   "source": [
    "## Visualization of the graph"
   ]
  },
  {
   "cell_type": "code",
   "execution_count": null,
   "id": "89d401fd-4620-45f9-b8de-a8852bda3811",
   "metadata": {},
   "outputs": [
    {
     "name": "stdout",
     "output_type": "stream",
     "text": [
      "Starting the WebViewer, access it from your web browser, navigating to the address:\n",
      "http://localhost:8000\n",
      "To stop the WebViewer, use the \"Stop running\" link (on the viewer site, from the browser)\n",
      " * Serving Flask app 'simpleai.search.web_viewer_server'\n",
      " * Debug mode: off\n"
     ]
    },
    {
     "name": "stderr",
     "output_type": "stream",
     "text": [
      "WARNING: This is a development server. Do not use it in a production deployment. Use a production WSGI server instead.\n",
      " * Running on all addresses (0.0.0.0)\n",
      " * Running on http://127.0.0.1:8000\n",
      " * Running on http://192.168.29.163:8000\n",
      "Press CTRL+C to quit\n",
      "127.0.0.1 - - [21/Oct/2023 00:50:23] \"GET / HTTP/1.1\" 200 -\n",
      "127.0.0.1 - - [21/Oct/2023 00:50:23] \"GET /static/styles.css HTTP/1.1\" 200 -\n",
      "127.0.0.1 - - [21/Oct/2023 00:50:23] \"GET /static/jquery-2.0.2.min.js HTTP/1.1\" 200 -\n",
      "127.0.0.1 - - [21/Oct/2023 00:50:23] \"GET /static/angular.min.js HTTP/1.1\" 200 -\n",
      "127.0.0.1 - - [21/Oct/2023 00:50:23] \"GET /static/EventSource.js HTTP/1.1\" 200 -\n",
      "127.0.0.1 - - [21/Oct/2023 00:50:23] \"GET /static/jquery.panzoom.min.js HTTP/1.1\" 200 -\n",
      "127.0.0.1 - - [21/Oct/2023 00:50:23] \"GET /static/main.js HTTP/1.1\" 200 -\n",
      "127.0.0.1 - - [21/Oct/2023 00:50:24] \"GET /graph HTTP/1.1\" 200 -\n",
      "127.0.0.1 - - [21/Oct/2023 00:50:24] \"GET /favicon.ico HTTP/1.1\" 404 -\n",
      "127.0.0.1 - - [21/Oct/2023 00:50:24] \"GET /event_stream HTTP/1.1\" 200 -\n",
      "127.0.0.1 - - [21/Oct/2023 00:50:24] \"GET /graph?unique=1697829624283 HTTP/1.1\" 200 -\n",
      "127.0.0.1 - - [21/Oct/2023 00:50:27] \"GET /control/play HTTP/1.1\" 200 -\n",
      "127.0.0.1 - - [21/Oct/2023 00:50:28] \"GET /graph?unique=1697829628115 HTTP/1.1\" 200 -\n",
      "127.0.0.1 - - [21/Oct/2023 00:50:28] \"GET /graph?unique=1697829628787 HTTP/1.1\" 200 -\n",
      "127.0.0.1 - - [21/Oct/2023 00:50:29] \"GET /graph?unique=1697829629441 HTTP/1.1\" 200 -\n",
      "127.0.0.1 - - [21/Oct/2023 00:50:30] \"GET /graph?unique=1697829629997 HTTP/1.1\" 200 -\n",
      "127.0.0.1 - - [21/Oct/2023 00:50:30] \"GET /graph?unique=1697829630649 HTTP/1.1\" 200 -\n",
      "127.0.0.1 - - [21/Oct/2023 00:50:31] \"GET /graph?unique=1697829631291 HTTP/1.1\" 200 -\n",
      "127.0.0.1 - - [21/Oct/2023 00:50:32] \"GET /graph?unique=1697829632067 HTTP/1.1\" 200 -\n",
      "127.0.0.1 - - [21/Oct/2023 00:50:32] \"GET /graph?unique=1697829632710 HTTP/1.1\" 200 -\n",
      "127.0.0.1 - - [21/Oct/2023 00:50:33] \"GET /graph?unique=1697829633362 HTTP/1.1\" 200 -\n",
      "127.0.0.1 - - [21/Oct/2023 00:50:34] \"GET /graph?unique=1697829634020 HTTP/1.1\" 200 -\n",
      "127.0.0.1 - - [21/Oct/2023 00:50:34] \"GET /graph?unique=1697829634679 HTTP/1.1\" 200 -\n",
      "127.0.0.1 - - [21/Oct/2023 00:50:35] \"GET /graph?unique=1697829635334 HTTP/1.1\" 200 -\n",
      "127.0.0.1 - - [21/Oct/2023 00:50:36] \"GET /graph?unique=1697829636030 HTTP/1.1\" 200 -\n",
      "127.0.0.1 - - [21/Oct/2023 00:50:36] \"GET /graph?unique=1697829636707 HTTP/1.1\" 200 -\n",
      "127.0.0.1 - - [21/Oct/2023 00:50:37] \"GET /graph?unique=1697829637374 HTTP/1.1\" 200 -\n",
      "127.0.0.1 - - [21/Oct/2023 00:50:38] \"GET /graph?unique=1697829638138 HTTP/1.1\" 200 -\n",
      "127.0.0.1 - - [21/Oct/2023 00:50:39] \"GET /graph?unique=1697829638797 HTTP/1.1\" 200 -\n",
      "127.0.0.1 - - [21/Oct/2023 00:50:39] \"GET /graph?unique=1697829639656 HTTP/1.1\" 200 -\n",
      "127.0.0.1 - - [21/Oct/2023 00:50:40] \"GET /graph?unique=1697829640414 HTTP/1.1\" 200 -\n",
      "127.0.0.1 - - [21/Oct/2023 00:50:41] \"GET /graph?unique=1697829641182 HTTP/1.1\" 200 -\n",
      "127.0.0.1 - - [21/Oct/2023 00:50:42] \"GET /graph?unique=1697829642002 HTTP/1.1\" 200 -\n",
      "127.0.0.1 - - [21/Oct/2023 00:50:43] \"GET /graph?unique=1697829642758 HTTP/1.1\" 200 -\n",
      "127.0.0.1 - - [21/Oct/2023 00:50:43] \"GET /graph?unique=1697829643614 HTTP/1.1\" 200 -\n",
      "127.0.0.1 - - [21/Oct/2023 00:50:44] \"GET /graph?unique=1697829644372 HTTP/1.1\" 200 -\n",
      "127.0.0.1 - - [21/Oct/2023 00:50:45] \"GET /graph?unique=1697829645154 HTTP/1.1\" 200 -\n",
      "127.0.0.1 - - [21/Oct/2023 00:50:46] \"GET /graph?unique=1697829645922 HTTP/1.1\" 200 -\n",
      "127.0.0.1 - - [21/Oct/2023 00:50:46] \"GET /control/pause HTTP/1.1\" 200 -\n",
      "127.0.0.1 - - [21/Oct/2023 00:50:46] \"GET /graph?unique=1697829646672 HTTP/1.1\" 200 -\n",
      "127.0.0.1 - - [21/Oct/2023 00:50:48] \"GET /control/pause HTTP/1.1\" 200 -\n",
      "127.0.0.1 - - [21/Oct/2023 00:50:51] \"GET /control/step HTTP/1.1\" 200 -\n",
      "127.0.0.1 - - [21/Oct/2023 00:50:52] \"GET /graph?unique=1697829652541 HTTP/1.1\" 200 -\n",
      "127.0.0.1 - - [21/Oct/2023 00:50:53] \"GET / HTTP/1.1\" 304 -\n",
      "127.0.0.1 - - [21/Oct/2023 00:50:53] \"GET /static/jquery-2.0.2.min.js HTTP/1.1\" 304 -\n",
      "127.0.0.1 - - [21/Oct/2023 00:50:53] \"GET /static/angular.min.js HTTP/1.1\" 304 -\n",
      "127.0.0.1 - - [21/Oct/2023 00:50:53] \"GET /static/EventSource.js HTTP/1.1\" 304 -\n",
      "127.0.0.1 - - [21/Oct/2023 00:50:53] \"GET /static/styles.css HTTP/1.1\" 304 -\n",
      "127.0.0.1 - - [21/Oct/2023 00:50:53] \"GET /static/jquery.panzoom.min.js HTTP/1.1\" 304 -\n",
      "127.0.0.1 - - [21/Oct/2023 00:50:53] \"GET /static/main.js HTTP/1.1\" 304 -\n",
      "127.0.0.1 - - [21/Oct/2023 00:50:53] \"GET /graph HTTP/1.1\" 200 -\n",
      "127.0.0.1 - - [21/Oct/2023 00:50:53] \"GET /event_stream HTTP/1.1\" 200 -\n",
      "127.0.0.1 - - [21/Oct/2023 00:50:53] \"GET /graph?unique=1697829653820 HTTP/1.1\" 200 -\n",
      "127.0.0.1 - - [21/Oct/2023 00:50:53] \"GET /graph?unique=1697829653818 HTTP/1.1\" 200 -\n",
      "127.0.0.1 - - [21/Oct/2023 00:50:53] \"GET /graph?unique=1697829653822 HTTP/1.1\" 200 -\n",
      "127.0.0.1 - - [21/Oct/2023 00:50:53] \"GET /graph?unique=1697829653826 HTTP/1.1\" 200 -\n",
      "127.0.0.1 - - [21/Oct/2023 00:50:53] \"GET /graph?unique=1697829653828 HTTP/1.1\" 200 -\n",
      "127.0.0.1 - - [21/Oct/2023 00:50:54] \"GET /graph?unique=1697829653898 HTTP/1.1\" 200 -\n",
      "127.0.0.1 - - [21/Oct/2023 00:50:55] \"GET /control/play HTTP/1.1\" 200 -\n",
      "127.0.0.1 - - [21/Oct/2023 00:50:56] \"GET /graph?unique=1697829656312 HTTP/1.1\" 200 -\n",
      "127.0.0.1 - - [21/Oct/2023 00:50:57] \"GET /graph?unique=1697829657059 HTTP/1.1\" 200 -\n",
      "127.0.0.1 - - [21/Oct/2023 00:50:58] \"GET /graph?unique=1697829658061 HTTP/1.1\" 200 -\n",
      "127.0.0.1 - - [21/Oct/2023 00:50:59] \"GET /graph?unique=1697829658826 HTTP/1.1\" 200 -\n",
      "127.0.0.1 - - [21/Oct/2023 00:50:59] \"GET /graph?unique=1697829659610 HTTP/1.1\" 200 -\n",
      "127.0.0.1 - - [21/Oct/2023 00:51:00] \"GET /graph?unique=1697829660384 HTTP/1.1\" 200 -\n",
      "127.0.0.1 - - [21/Oct/2023 00:51:01] \"GET / HTTP/1.1\" 304 -\n",
      "127.0.0.1 - - [21/Oct/2023 00:51:01] \"GET /static/styles.css HTTP/1.1\" 304 -\n",
      "127.0.0.1 - - [21/Oct/2023 00:51:01] \"GET /static/angular.min.js HTTP/1.1\" 304 -\n",
      "127.0.0.1 - - [21/Oct/2023 00:51:01] \"GET /static/jquery-2.0.2.min.js HTTP/1.1\" 304 -\n",
      "127.0.0.1 - - [21/Oct/2023 00:51:01] \"GET /static/EventSource.js HTTP/1.1\" 304 -\n",
      "127.0.0.1 - - [21/Oct/2023 00:51:01] \"GET /static/jquery.panzoom.min.js HTTP/1.1\" 304 -\n",
      "127.0.0.1 - - [21/Oct/2023 00:51:01] \"GET /static/main.js HTTP/1.1\" 304 -\n",
      "127.0.0.1 - - [21/Oct/2023 00:51:01] \"GET /graph HTTP/1.1\" 200 -\n",
      "127.0.0.1 - - [21/Oct/2023 00:51:01] \"GET /graph?unique=1697829661264 HTTP/1.1\" 200 -\n",
      "127.0.0.1 - - [21/Oct/2023 00:51:01] \"GET /event_stream HTTP/1.1\" 200 -\n",
      "127.0.0.1 - - [21/Oct/2023 00:51:01] \"GET /graph?unique=1697829661801 HTTP/1.1\" 200 -\n",
      "127.0.0.1 - - [21/Oct/2023 00:51:01] \"GET /graph?unique=1697829661895 HTTP/1.1\" 200 -\n",
      "127.0.0.1 - - [21/Oct/2023 00:51:02] \"GET /graph?unique=1697829662036 HTTP/1.1\" 200 -\n",
      "127.0.0.1 - - [21/Oct/2023 00:51:03] \"GET /graph?unique=1697829662891 HTTP/1.1\" 200 -\n"
     ]
    }
   ],
   "source": [
    "from simpleai.search.viewers import WebViewer\n",
    "my_viewer = WebViewer()\n",
    "my_problem = sudoku_solver(initial_state=initial_state)\n",
    "result = astar(my_problem, viewer=my_viewer)"
   ]
  },
  {
   "cell_type": "markdown",
   "id": "110663dd-0b31-44fa-8ce0-26248dc1210f",
   "metadata": {},
   "source": [
    "If main.py is executed using these lines, SimpleAI will mount a server on localhost to display the algorithm execution state tree step by step."
   ]
  },
  {
   "cell_type": "markdown",
   "id": "26bba13e-afab-4145-ad56-52ab7c1fff4f",
   "metadata": {},
   "source": [
    "When accessing the localhost path, a view like the following will be displayed:"
   ]
  },
  {
   "cell_type": "code",
   "execution_count": null,
   "id": "bf9318d8-6e2e-4afc-8695-6d4d9877ccec",
   "metadata": {},
   "outputs": [],
   "source": []
  },
  {
   "cell_type": "code",
   "execution_count": null,
   "id": "2f6aa115-547c-482c-b414-d83dcabf93b4",
   "metadata": {},
   "outputs": [],
   "source": []
  }
 ],
 "metadata": {
  "kernelspec": {
   "display_name": "Python 3 (ipykernel)",
   "language": "python",
   "name": "python3"
  },
  "language_info": {
   "codemirror_mode": {
    "name": "ipython",
    "version": 3
   },
   "file_extension": ".py",
   "mimetype": "text/x-python",
   "name": "python",
   "nbconvert_exporter": "python",
   "pygments_lexer": "ipython3",
   "version": "3.10.5"
  }
 },
 "nbformat": 4,
 "nbformat_minor": 5
}
